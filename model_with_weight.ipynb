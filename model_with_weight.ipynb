{
  "nbformat": 4,
  "nbformat_minor": 0,
  "metadata": {
    "colab": {
      "name": "model_with_weight.ipynb",
      "provenance": []
    },
    "kernelspec": {
      "name": "python3",
      "display_name": "Python 3"
    },
    "accelerator": "GPU"
  },
  "cells": [
    {
      "cell_type": "code",
      "metadata": {
        "id": "uYml8Cf7WKED",
        "colab_type": "code",
        "colab": {
          "base_uri": "https://localhost:8080/",
          "height": 34
        },
        "outputId": "9e9d532b-ac6a-49fc-d641-929f2657bca9"
      },
      "source": [
        "#two model\n",
        "#one with 5 polarities\n",
        "#one with 3 polarities\n",
        "\n",
        "#-------------------------\n",
        "'''\n",
        "0 - negative\n",
        "\n",
        "1 - somewhat negative\n",
        "\n",
        "2 - neutral\n",
        "\n",
        "3 - somewhat positive\n",
        "\n",
        "4 - positive\n",
        "\n",
        "'''\n",
        "\n",
        "\n",
        "#----------------------------\n",
        "'''\n",
        "0 - negative\n",
        "1 - neutral\n",
        "2 - positive\n",
        "\n",
        "'''"
      ],
      "execution_count": 1,
      "outputs": [
        {
          "output_type": "execute_result",
          "data": {
            "text/plain": [
              "'\\n0 - negative\\n1 - neutral\\n2 - positive\\n\\n'"
            ]
          },
          "metadata": {
            "tags": []
          },
          "execution_count": 1
        }
      ]
    },
    {
      "cell_type": "code",
      "metadata": {
        "id": "ezAfOyXfWsHO",
        "colab_type": "code",
        "colab": {
          "base_uri": "https://localhost:8080/",
          "height": 81
        },
        "outputId": "90ca7987-6ca8-4d5a-eca8-fa0bfa16df58"
      },
      "source": [
        "import numpy as np \n",
        "import pandas as pd \n",
        "import os\n",
        "from tqdm import tqdm\n",
        "#importing the NLP Libraries\n",
        "from bs4 import BeautifulSoup\n",
        "import re\n",
        "import nltk\n",
        "from nltk.tokenize import word_tokenize\n",
        "from nltk.stem import WordNetLemmatizer\n",
        "lemmatizer = WordNetLemmatizer()\n",
        "from keras.utils import to_categorical\n",
        "import random\n",
        "from tensorflow import set_random_seed\n",
        "from keras.optimizers import Adam\n",
        "from keras.layers import Dense,Dropout,Embedding,LSTM\n",
        "from keras.callbacks import EarlyStopping\n",
        "from sklearn.model_selection import train_test_split\n",
        "from keras.preprocessing import sequence\n",
        "from keras.preprocessing.text import Tokenizer\n",
        "from keras.losses import categorical_crossentropy\n",
        "from keras.models import Sequential\n",
        "from keras.models import load_model\n",
        "\n",
        "set_random_seed(123)\n",
        "\n"
      ],
      "execution_count": 1,
      "outputs": [
        {
          "output_type": "stream",
          "text": [
            "Using TensorFlow backend.\n"
          ],
          "name": "stderr"
        },
        {
          "output_type": "display_data",
          "data": {
            "text/html": [
              "<p style=\"color: red;\">\n",
              "The default version of TensorFlow in Colab will soon switch to TensorFlow 2.x.<br>\n",
              "We recommend you <a href=\"https://www.tensorflow.org/guide/migrate\" target=\"_blank\">upgrade</a> now \n",
              "or ensure your notebook will continue to use TensorFlow 1.x via the <code>%tensorflow_version 1.x</code> magic:\n",
              "<a href=\"https://colab.research.google.com/notebooks/tensorflow_version.ipynb\" target=\"_blank\">more info</a>.</p>\n"
            ],
            "text/plain": [
              "<IPython.core.display.HTML object>"
            ]
          },
          "metadata": {
            "tags": []
          }
        }
      ]
    },
    {
      "cell_type": "code",
      "metadata": {
        "id": "ueKcG1uxtjvH",
        "colab_type": "code",
        "colab": {}
      },
      "source": [
        "train= pd.read_csv(r\"train.tsv\", sep=\"\\t\")"
      ],
      "execution_count": 0,
      "outputs": []
    },
    {
      "cell_type": "code",
      "metadata": {
        "id": "Vo9IH_4zXJoU",
        "colab_type": "code",
        "colab": {
          "base_uri": "https://localhost:8080/",
          "height": 106
        },
        "outputId": "fdc09871-08ff-4889-b082-845b458d2fe6"
      },
      "source": [
        "def clean_sentences(df):\n",
        "    reviews = []\n",
        "    for sent in tqdm(df['Phrase']):\n",
        "        review_text = BeautifulSoup(sent).get_text()\n",
        "        review_text = re.sub(\"[^a-zA-Z]\",\" \", review_text)\n",
        "        words = word_tokenize(review_text.lower())\n",
        "        lemma_words = [lemmatizer.lemmatize(i) for i in words]\n",
        "        reviews.append(lemma_words)\n",
        "    return(reviews)\n",
        "train_sentences = clean_sentences(train)\n",
        "target=train.Sentiment.values\n",
        "y_target=to_categorical(target)\n",
        "num_classes=y_target.shape[1]\n",
        "X_train,X_val,y_train,y_val=train_test_split(train_sentences,y_target,test_size=0.2,stratify=y_target)\n",
        "#It is needed for initializing tokenizer of keras and subsequent padding\n",
        "\n",
        "unique_words = set()\n",
        "len_max = 0\n",
        "\n",
        "for sent in tqdm(X_train):\n",
        "    unique_words.update(sent)\n",
        "    if(len_max<len(sent)):\n",
        "        len_max = len(sent)\n",
        "tokenizer = Tokenizer(num_words=len(list(unique_words)))\n",
        "tokenizer.fit_on_texts(list(X_train))\n",
        "X_train = tokenizer.texts_to_sequences(X_train)\n",
        "X_train = sequence.pad_sequences(X_train, maxlen=len_max)"
      ],
      "execution_count": 8,
      "outputs": [
        {
          "output_type": "stream",
          "text": [
            "  0%|          | 1/156060 [00:01<64:45:18,  1.49s/it]/usr/local/lib/python3.6/dist-packages/bs4/__init__.py:273: UserWarning: \"b'.'\" looks like a filename, not markup. You should probably open this file and pass the filehandle into Beautiful Soup.\n",
            "  ' Beautiful Soup.' % markup)\n",
            "100%|██████████| 156060/156060 [00:57<00:00, 2704.13it/s]\n",
            "100%|██████████| 124848/124848 [00:00<00:00, 699574.59it/s]\n"
          ],
          "name": "stderr"
        }
      ]
    },
    {
      "cell_type": "code",
      "metadata": {
        "id": "lwSu9mSvwB2y",
        "colab_type": "code",
        "colab": {
          "base_uri": "https://localhost:8080/",
          "height": 104
        },
        "outputId": "26b4c919-c4ca-4855-ed17-a3c397a8629e"
      },
      "source": [
        "def clean_sentences(df):\n",
        "    df=np.array([df])\n",
        "    reviews = []\n",
        "    for sent in tqdm(df):\n",
        "        #review_text = BeautifulSoup(sent).get_text()\n",
        "        review_text=str(sent)\n",
        "        review_text = re.sub(\"[^a-zA-Z]\",\" \", review_text)\n",
        "        words = word_tokenize(review_text.lower())\n",
        "        lemma_words = [lemmatizer.lemmatize(i) for i in words]\n",
        "        reviews.append(lemma_words)\n",
        "    return(reviews)\n",
        "Y_crit_clean = clean_sentences(Y_criticker)\n",
        "Y_crit_clean = tokenizer.texts_to_sequences(Y_crit_clean)\n",
        "Y_sentiment = sequence.pad_sequences(Y_crit_clean, maxlen=len_max)"
      ],
      "execution_count": 137,
      "outputs": [
        {
          "output_type": "stream",
          "text": [
            "\n",
            "\n",
            "  0%|          | 0/1 [00:00<?, ?it/s]\u001b[A\u001b[A\n",
            "\n",
            "100%|██████████| 1/1 [00:00<00:00, 561.34it/s]\u001b[A\u001b[A"
          ],
          "name": "stderr"
        }
      ]
    },
    {
      "cell_type": "code",
      "metadata": {
        "id": "O0BVueTDXZB4",
        "colab_type": "code",
        "colab": {}
      },
      "source": [
        "model1 = load_model('my_model_with_3_sentiments.h5')\n",
        "model2 = load_model('my_model_with_5_sentiments.h5')"
      ],
      "execution_count": 0,
      "outputs": []
    },
    {
      "cell_type": "code",
      "metadata": {
        "id": "nBPMmoAabJHy",
        "colab_type": "code",
        "colab": {
          "base_uri": "https://localhost:8080/",
          "height": 364
        },
        "outputId": "c60de107-902d-4192-c1a8-2797c61514d7"
      },
      "source": [
        "model1.summary()"
      ],
      "execution_count": 110,
      "outputs": [
        {
          "output_type": "stream",
          "text": [
            "Model: \"sequential_5\"\n",
            "_________________________________________________________________\n",
            "Layer (type)                 Output Shape              Param #   \n",
            "=================================================================\n",
            "embedding_5 (Embedding)      (None, 48, 300)           4120500   \n",
            "_________________________________________________________________\n",
            "lstm_9 (LSTM)                (None, 48, 128)           219648    \n",
            "_________________________________________________________________\n",
            "lstm_10 (LSTM)               (None, 64)                49408     \n",
            "_________________________________________________________________\n",
            "dense_9 (Dense)              (None, 100)               6500      \n",
            "_________________________________________________________________\n",
            "dropout_5 (Dropout)          (None, 100)               0         \n",
            "_________________________________________________________________\n",
            "dense_10 (Dense)             (None, 3)                 303       \n",
            "=================================================================\n",
            "Total params: 4,396,359\n",
            "Trainable params: 4,396,359\n",
            "Non-trainable params: 0\n",
            "_________________________________________________________________\n"
          ],
          "name": "stdout"
        }
      ]
    },
    {
      "cell_type": "code",
      "metadata": {
        "id": "7TmwCzRDNRjP",
        "colab_type": "code",
        "colab": {
          "base_uri": "https://localhost:8080/",
          "height": 364
        },
        "outputId": "2b86fd2b-ea6e-433a-a445-7ee0ce04c0cc"
      },
      "source": [
        "model2.summary()"
      ],
      "execution_count": 141,
      "outputs": [
        {
          "output_type": "stream",
          "text": [
            "Model: \"sequential_1\"\n",
            "_________________________________________________________________\n",
            "Layer (type)                 Output Shape              Param #   \n",
            "=================================================================\n",
            "embedding_1 (Embedding)      (None, 48, 300)           4120500   \n",
            "_________________________________________________________________\n",
            "lstm_1 (LSTM)                (None, 48, 128)           219648    \n",
            "_________________________________________________________________\n",
            "lstm_2 (LSTM)                (None, 64)                49408     \n",
            "_________________________________________________________________\n",
            "dense_1 (Dense)              (None, 100)               6500      \n",
            "_________________________________________________________________\n",
            "dropout_1 (Dropout)          (None, 100)               0         \n",
            "_________________________________________________________________\n",
            "dense_2 (Dense)              (None, 5)                 505       \n",
            "=================================================================\n",
            "Total params: 4,396,561\n",
            "Trainable params: 4,396,561\n",
            "Non-trainable params: 0\n",
            "_________________________________________________________________\n"
          ],
          "name": "stdout"
        }
      ]
    },
    {
      "cell_type": "code",
      "metadata": {
        "id": "KKOQ1QFCjQsm",
        "colab_type": "code",
        "colab": {}
      },
      "source": [
        "def predict(y):\n",
        "  y = clean_sentences(y)\n",
        "  y = tokenizer.texts_to_sequences(y)\n",
        "  y = sequence.pad_sequences(y, maxlen=len_max)\n",
        "  Sentiment_crit1=model1.predict_classes(y)\n",
        "  Sentiment_crit2=model2.predict_classes(y)\n",
        "  print(\"\\n\")\n",
        "  print(\"Model1 with 3 Polarity class output :\",Sentiment_crit1[0])\n",
        "  print(\"Model1 with 5 Polarity class output :\",Sentiment_crit2[0])\n",
        "  \n",
        "  \n"
      ],
      "execution_count": 0,
      "outputs": []
    },
    {
      "cell_type": "code",
      "metadata": {
        "id": "D2b5SzYKPIww",
        "colab_type": "code",
        "colab": {}
      },
      "source": [
        "test=pd.read_csv(\"train.tsv\", sep=\"\\t\")"
      ],
      "execution_count": 0,
      "outputs": []
    },
    {
      "cell_type": "code",
      "metadata": {
        "id": "yafkWXj-PU1T",
        "colab_type": "code",
        "colab": {
          "base_uri": "https://localhost:8080/",
          "height": 34
        },
        "outputId": "37b0706d-5acf-4cc2-fae3-c9a14bee8f44"
      },
      "source": [
        ""
      ],
      "execution_count": 165,
      "outputs": [
        {
          "output_type": "execute_result",
          "data": {
            "text/plain": [
              "'to avoid'"
            ]
          },
          "metadata": {
            "tags": []
          },
          "execution_count": 165
        }
      ]
    },
    {
      "cell_type": "code",
      "metadata": {
        "id": "BR8iLfSUlntA",
        "colab_type": "code",
        "colab": {
          "base_uri": "https://localhost:8080/",
          "height": 156
        },
        "outputId": "59394ca4-e37f-4132-9c44-15db9b6bc837"
      },
      "source": [
        "predict(test['Phrase'][100])\n"
      ],
      "execution_count": 166,
      "outputs": [
        {
          "output_type": "stream",
          "text": [
            "\n",
            "\n",
            "  0%|          | 0/1 [00:00<?, ?it/s]\u001b[A\u001b[A\n",
            "\n",
            "100%|██████████| 1/1 [00:00<00:00, 614.28it/s]\u001b[A\u001b[A"
          ],
          "name": "stderr"
        },
        {
          "output_type": "stream",
          "text": [
            "\n",
            "\n",
            "Model1 with 3 Polarity class output : 2\n",
            "Model1 with 5 Polarity class output : 2\n"
          ],
          "name": "stdout"
        }
      ]
    },
    {
      "cell_type": "code",
      "metadata": {
        "id": "jAdV6h3Nlr5w",
        "colab_type": "code",
        "colab": {}
      },
      "source": [
        ""
      ],
      "execution_count": 0,
      "outputs": []
    }
  ]
}